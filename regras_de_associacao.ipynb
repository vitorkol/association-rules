{
  "nbformat": 4,
  "nbformat_minor": 0,
  "metadata": {
    "colab": {
      "name": "regras_de_associacao",
      "provenance": [],
      "authorship_tag": "ABX9TyPheuhjuWpcFBzl3OnjXOB1",
      "include_colab_link": true
    },
    "kernelspec": {
      "name": "python3",
      "display_name": "Python 3"
    },
    "language_info": {
      "name": "python"
    }
  },
  "cells": [
    {
      "cell_type": "markdown",
      "metadata": {
        "id": "view-in-github",
        "colab_type": "text"
      },
      "source": [
        "<a href=\"https://colab.research.google.com/github/vitorkol/association-rules/blob/master/regras_de_associacao.ipynb\" target=\"_parent\"><img src=\"https://colab.research.google.com/assets/colab-badge.svg\" alt=\"Open In Colab\"/></a>"
      ]
    },
    {
      "cell_type": "markdown",
      "source": [
        "**Importanto as bibliotecas**"
      ],
      "metadata": {
        "id": "IBnZ7HolCfhm"
      }
    },
    {
      "cell_type": "code",
      "source": [
        "import pandas as pd\n",
        "from mlxtend.preprocessing import TransactionEncoder"
      ],
      "metadata": {
        "id": "5-s799_jCgjD"
      },
      "execution_count": 10,
      "outputs": []
    },
    {
      "cell_type": "code",
      "source": [
        "#Lendo o dataset a ser utilizado no exercício\n",
        "url = \"https://raw.githubusercontent.com/vitorkol/association-rules/master/dataset/mercado.csv\"\n",
        "base_mercado = pd.read_csv(url, sep = ';')"
      ],
      "metadata": {
        "id": "F7RZcITfCgmG"
      },
      "execution_count": 11,
      "outputs": []
    },
    {
      "cell_type": "markdown",
      "source": [
        "**Identificando os dados e seus repectivos tipos**\n",
        "\n",
        "Essa análise inicial permite ter uma visão dos tipos de daos e os possíveis tipos de tratamento."
      ],
      "metadata": {
        "id": "rE5yAzUtDiNu"
      }
    },
    {
      "cell_type": "code",
      "source": [
        "base_mercado.info()"
      ],
      "metadata": {
        "id": "Dbbp4mTDCg5X"
      },
      "execution_count": null,
      "outputs": []
    },
    {
      "cell_type": "code",
      "execution_count": null,
      "metadata": {
        "id": "kzbG69007yVz"
      },
      "outputs": [],
      "source": [
        "base_mercado.describe()"
      ]
    },
    {
      "cell_type": "code",
      "source": [
        "base_mercado"
      ],
      "metadata": {
        "id": "zllHv1f8FgRT"
      },
      "execution_count": null,
      "outputs": []
    },
    {
      "cell_type": "markdown",
      "source": [
        "**Tratamento de dados**</br></br>\n",
        "O algoritmo de regras de associação necessita que o input de dados seja em formato de lista contendo indicador de true or false para cada produto.\n",
        "\n",
        "Desta forma, temos que realizar tratamento de dados no dataset para satisfazer essa premissa.\n",
        "\n",
        "Diante dessa necessidade a solução implementada é a transposição de linhas para colunas."
      ],
      "metadata": {
        "id": "Bts57Ikt0zBn"
      }
    },
    {
      "cell_type": "code",
      "source": [
        "# Visualizando tamanho do dataset\n",
        "len(base_mercado)"
      ],
      "metadata": {
        "colab": {
          "base_uri": "https://localhost:8080/"
        },
        "id": "aDKkUxU9FgKl",
        "outputId": "fbc205ad-2d29-41b1-cf1f-b2372933935e"
      },
      "execution_count": 16,
      "outputs": [
        {
          "output_type": "execute_result",
          "data": {
            "text/plain": [
              "10"
            ]
          },
          "metadata": {},
          "execution_count": 16
        }
      ]
    },
    {
      "cell_type": "code",
      "source": [
        "#Acessando o produto dentro da lista\n",
        "print(base_mercado.values[1,1]) #Exibindo a informação da Linha 0 Coluna 3"
      ],
      "metadata": {
        "colab": {
          "base_uri": "https://localhost:8080/"
        },
        "id": "QoN1z48bFgEQ",
        "outputId": "b791273f-18c8-4738-ad27-93383720912b"
      },
      "execution_count": 17,
      "outputs": [
        {
          "output_type": "stream",
          "name": "stdout",
          "text": [
            "cafe\n"
          ]
        }
      ]
    },
    {
      "cell_type": "code",
      "source": [
        "# Temos que acessar cada item dentro do dataframe e inserir em uma lista\n",
        "lista_compras = []\n",
        "for i in range(len(base_mercado)):  \n",
        "    lista_compras.append([str(base_mercado.values[i, j]) for j in range(4)])"
      ],
      "metadata": {
        "id": "DSgXlls21lFZ"
      },
      "execution_count": 19,
      "outputs": []
    },
    {
      "cell_type": "code",
      "source": [
        "#Exibindo a listagem de compras gerada\n",
        "lista_compras"
      ],
      "metadata": {
        "id": "qInkvuCS1k-V"
      },
      "execution_count": null,
      "outputs": []
    },
    {
      "cell_type": "markdown",
      "source": [
        "**Criando lista de produtos com indicador de true or false**\n",
        "\n",
        "\n",
        "Nesta etapa vamos criar a lista com todos os produtos do dataset e informando a transação e seus respectivos itens."
      ],
      "metadata": {
        "id": "-itfSSJJ1kVs"
      }
    },
    {
      "cell_type": "code",
      "source": [
        "te = TransactionEncoder()\n",
        "te_array = te.fit(lista_compras).transform(lista_compras)"
      ],
      "metadata": {
        "id": "mFxEnDlf1kyG"
      },
      "execution_count": 21,
      "outputs": []
    },
    {
      "cell_type": "code",
      "source": [
        "#Exibindo a listagem de produtos criada no array com valores True and False\n",
        "te_array"
      ],
      "metadata": {
        "id": "_GkxI-552FNt"
      },
      "execution_count": null,
      "outputs": []
    },
    {
      "cell_type": "markdown",
      "source": [
        "**Criando dataframe com itens do mercado**\n",
        "\n",
        "\n",
        "Vamos criar o dataframe através da lista criada e infomando as colunas que representam os itens do dataset."
      ],
      "metadata": {
        "id": "hSCfs4Rw2Sj-"
      }
    },
    {
      "cell_type": "code",
      "source": [
        "#Neste processo de Transformação definimos o cabeçalho do dataset com o nome dos itens\n",
        "df_prod_mercado = pd.DataFrame(te_array, columns = te.columns_)"
      ],
      "metadata": {
        "id": "BU2YMLDR2SVh"
      },
      "execution_count": 23,
      "outputs": []
    },
    {
      "cell_type": "code",
      "source": [
        "#Visualizando o dataframe\n",
        "df_prod_mercado"
      ],
      "metadata": {
        "id": "jfefl8VC2SPy"
      },
      "execution_count": null,
      "outputs": []
    },
    {
      "cell_type": "markdown",
      "source": [
        "Pode-se Obserevar que ao transpor as linhas em colunas os dados, das colunas que possuiam \n",
        "valores ausentes do tipo \"Nan\" foram incluidads como um produto do mercado. No entanto, isso não é verdadeiro. Dessa forma, vamos eliminar essa coluna do nosso dataframe."
      ],
      "metadata": {
        "id": "exm7fk1r2R8m"
      }
    },
    {
      "cell_type": "code",
      "source": [
        "df_prod_mercado.drop(columns='nan', inplace=True)"
      ],
      "metadata": {
        "id": "WUXRr6JF2SNG"
      },
      "execution_count": 25,
      "outputs": []
    },
    {
      "cell_type": "code",
      "source": [
        "#Exibindo o conjunto de dados e validando a remoção da coluna Nan.\n",
        "df_prod_mercado"
      ],
      "metadata": {
        "id": "z7uMSecY3QCc"
      },
      "execution_count": null,
      "outputs": []
    },
    {
      "cell_type": "code",
      "source": [
        "#Renomeando colunas para melhor entendimento dos dados\n",
        "df_prod_mercado.rename(columns={'arroz': 'Arroz', 'cafe': 'Cafe','cerveja':'Cerveja', 'feijao':'Feijao', 'leite':'Leite','manteiga':'Manteiga','pao':'Pao'}, inplace = True)"
      ],
      "metadata": {
        "id": "KA-hExLS3sp3"
      },
      "execution_count": 30,
      "outputs": []
    },
    {
      "cell_type": "markdown",
      "source": [
        "**Gerando os itens frequentes no dataset**\n",
        "\n",
        "\n",
        "Nesta etapa vamos gerar os itens sets mais frequentes no nosso dataframe. Para isso, vamos utiizar a biblioteca apriori."
      ],
      "metadata": {
        "id": "3ZgcvqoU590G"
      }
    },
    {
      "cell_type": "code",
      "source": [
        "from mlxtend.frequent_patterns import apriori"
      ],
      "metadata": {
        "id": "TlMZNN7H50FW"
      },
      "execution_count": 32,
      "outputs": []
    },
    {
      "cell_type": "code",
      "source": [
        "#Selecionando itens aplicando a métrica com o suporte de 30% nesse experimento.\n",
        "frequent_itemsets =  apriori(df_prod_mercado, min_support=0.3, use_colnames=True)"
      ],
      "metadata": {
        "id": "eKUJF0MD6Gxc"
      },
      "execution_count": 34,
      "outputs": []
    },
    {
      "cell_type": "code",
      "source": [
        "frequent_itemsets"
      ],
      "metadata": {
        "id": "NhFGPIou6GqZ"
      },
      "execution_count": null,
      "outputs": []
    },
    {
      "cell_type": "markdown",
      "source": [
        "**Criando as regras de associação**\n",
        "\n",
        "\n",
        "Após a criação dos itens mais frequentes, o proximo passo é criar as regras de associação. Vamos importar a biblioteca association_rules para gerar as regras."
      ],
      "metadata": {
        "id": "ZL_HZpzi58zV"
      }
    },
    {
      "cell_type": "code",
      "source": [
        "from mlxtend.frequent_patterns import association_rules"
      ],
      "metadata": {
        "id": "LgaBbyV46GlX"
      },
      "execution_count": 37,
      "outputs": []
    },
    {
      "cell_type": "code",
      "source": [
        "#Definindo as regras de associação a serem aplicadas no modelo.\n",
        "regras = association_rules(frequent_itemsets, metric='confidence',min_threshold=0.8) # 80% regras acontecerem\n",
        "#visualizando as regras criadas\n",
        "regras"
      ],
      "metadata": {
        "colab": {
          "base_uri": "https://localhost:8080/",
          "height": 365
        },
        "id": "Pm7kePFS7AL9",
        "outputId": "783de809-14f4-4ced-fc38-b7f8cdf15909"
      },
      "execution_count": 38,
      "outputs": [
        {
          "output_type": "execute_result",
          "data": {
            "text/plain": [
              "        antecedents      consequents  antecedent support  consequent support  \\\n",
              "0            (Cafe)       (Manteiga)                 0.3                 0.5   \n",
              "1            (Cafe)            (Pao)                 0.3                 0.5   \n",
              "2        (Manteiga)            (Pao)                 0.5                 0.5   \n",
              "3             (Pao)       (Manteiga)                 0.5                 0.5   \n",
              "4  (Cafe, Manteiga)            (Pao)                 0.3                 0.5   \n",
              "5       (Cafe, Pao)       (Manteiga)                 0.3                 0.5   \n",
              "6            (Cafe)  (Manteiga, Pao)                 0.3                 0.4   \n",
              "\n",
              "   support  confidence  lift  leverage  conviction  \n",
              "0      0.3         1.0   2.0      0.15         inf  \n",
              "1      0.3         1.0   2.0      0.15         inf  \n",
              "2      0.4         0.8   1.6      0.15         2.5  \n",
              "3      0.4         0.8   1.6      0.15         2.5  \n",
              "4      0.3         1.0   2.0      0.15         inf  \n",
              "5      0.3         1.0   2.0      0.15         inf  \n",
              "6      0.3         1.0   2.5      0.18         inf  "
            ],
            "text/html": [
              "\n",
              "  <div id=\"df-d51a6aa6-aa88-4d6e-a8d6-be2cdc1a6c3a\">\n",
              "    <div class=\"colab-df-container\">\n",
              "      <div>\n",
              "<style scoped>\n",
              "    .dataframe tbody tr th:only-of-type {\n",
              "        vertical-align: middle;\n",
              "    }\n",
              "\n",
              "    .dataframe tbody tr th {\n",
              "        vertical-align: top;\n",
              "    }\n",
              "\n",
              "    .dataframe thead th {\n",
              "        text-align: right;\n",
              "    }\n",
              "</style>\n",
              "<table border=\"1\" class=\"dataframe\">\n",
              "  <thead>\n",
              "    <tr style=\"text-align: right;\">\n",
              "      <th></th>\n",
              "      <th>antecedents</th>\n",
              "      <th>consequents</th>\n",
              "      <th>antecedent support</th>\n",
              "      <th>consequent support</th>\n",
              "      <th>support</th>\n",
              "      <th>confidence</th>\n",
              "      <th>lift</th>\n",
              "      <th>leverage</th>\n",
              "      <th>conviction</th>\n",
              "    </tr>\n",
              "  </thead>\n",
              "  <tbody>\n",
              "    <tr>\n",
              "      <th>0</th>\n",
              "      <td>(Cafe)</td>\n",
              "      <td>(Manteiga)</td>\n",
              "      <td>0.3</td>\n",
              "      <td>0.5</td>\n",
              "      <td>0.3</td>\n",
              "      <td>1.0</td>\n",
              "      <td>2.0</td>\n",
              "      <td>0.15</td>\n",
              "      <td>inf</td>\n",
              "    </tr>\n",
              "    <tr>\n",
              "      <th>1</th>\n",
              "      <td>(Cafe)</td>\n",
              "      <td>(Pao)</td>\n",
              "      <td>0.3</td>\n",
              "      <td>0.5</td>\n",
              "      <td>0.3</td>\n",
              "      <td>1.0</td>\n",
              "      <td>2.0</td>\n",
              "      <td>0.15</td>\n",
              "      <td>inf</td>\n",
              "    </tr>\n",
              "    <tr>\n",
              "      <th>2</th>\n",
              "      <td>(Manteiga)</td>\n",
              "      <td>(Pao)</td>\n",
              "      <td>0.5</td>\n",
              "      <td>0.5</td>\n",
              "      <td>0.4</td>\n",
              "      <td>0.8</td>\n",
              "      <td>1.6</td>\n",
              "      <td>0.15</td>\n",
              "      <td>2.5</td>\n",
              "    </tr>\n",
              "    <tr>\n",
              "      <th>3</th>\n",
              "      <td>(Pao)</td>\n",
              "      <td>(Manteiga)</td>\n",
              "      <td>0.5</td>\n",
              "      <td>0.5</td>\n",
              "      <td>0.4</td>\n",
              "      <td>0.8</td>\n",
              "      <td>1.6</td>\n",
              "      <td>0.15</td>\n",
              "      <td>2.5</td>\n",
              "    </tr>\n",
              "    <tr>\n",
              "      <th>4</th>\n",
              "      <td>(Cafe, Manteiga)</td>\n",
              "      <td>(Pao)</td>\n",
              "      <td>0.3</td>\n",
              "      <td>0.5</td>\n",
              "      <td>0.3</td>\n",
              "      <td>1.0</td>\n",
              "      <td>2.0</td>\n",
              "      <td>0.15</td>\n",
              "      <td>inf</td>\n",
              "    </tr>\n",
              "    <tr>\n",
              "      <th>5</th>\n",
              "      <td>(Cafe, Pao)</td>\n",
              "      <td>(Manteiga)</td>\n",
              "      <td>0.3</td>\n",
              "      <td>0.5</td>\n",
              "      <td>0.3</td>\n",
              "      <td>1.0</td>\n",
              "      <td>2.0</td>\n",
              "      <td>0.15</td>\n",
              "      <td>inf</td>\n",
              "    </tr>\n",
              "    <tr>\n",
              "      <th>6</th>\n",
              "      <td>(Cafe)</td>\n",
              "      <td>(Manteiga, Pao)</td>\n",
              "      <td>0.3</td>\n",
              "      <td>0.4</td>\n",
              "      <td>0.3</td>\n",
              "      <td>1.0</td>\n",
              "      <td>2.5</td>\n",
              "      <td>0.18</td>\n",
              "      <td>inf</td>\n",
              "    </tr>\n",
              "  </tbody>\n",
              "</table>\n",
              "</div>\n",
              "      <button class=\"colab-df-convert\" onclick=\"convertToInteractive('df-d51a6aa6-aa88-4d6e-a8d6-be2cdc1a6c3a')\"\n",
              "              title=\"Convert this dataframe to an interactive table.\"\n",
              "              style=\"display:none;\">\n",
              "        \n",
              "  <svg xmlns=\"http://www.w3.org/2000/svg\" height=\"24px\"viewBox=\"0 0 24 24\"\n",
              "       width=\"24px\">\n",
              "    <path d=\"M0 0h24v24H0V0z\" fill=\"none\"/>\n",
              "    <path d=\"M18.56 5.44l.94 2.06.94-2.06 2.06-.94-2.06-.94-.94-2.06-.94 2.06-2.06.94zm-11 1L8.5 8.5l.94-2.06 2.06-.94-2.06-.94L8.5 2.5l-.94 2.06-2.06.94zm10 10l.94 2.06.94-2.06 2.06-.94-2.06-.94-.94-2.06-.94 2.06-2.06.94z\"/><path d=\"M17.41 7.96l-1.37-1.37c-.4-.4-.92-.59-1.43-.59-.52 0-1.04.2-1.43.59L10.3 9.45l-7.72 7.72c-.78.78-.78 2.05 0 2.83L4 21.41c.39.39.9.59 1.41.59.51 0 1.02-.2 1.41-.59l7.78-7.78 2.81-2.81c.8-.78.8-2.07 0-2.86zM5.41 20L4 18.59l7.72-7.72 1.47 1.35L5.41 20z\"/>\n",
              "  </svg>\n",
              "      </button>\n",
              "      \n",
              "  <style>\n",
              "    .colab-df-container {\n",
              "      display:flex;\n",
              "      flex-wrap:wrap;\n",
              "      gap: 12px;\n",
              "    }\n",
              "\n",
              "    .colab-df-convert {\n",
              "      background-color: #E8F0FE;\n",
              "      border: none;\n",
              "      border-radius: 50%;\n",
              "      cursor: pointer;\n",
              "      display: none;\n",
              "      fill: #1967D2;\n",
              "      height: 32px;\n",
              "      padding: 0 0 0 0;\n",
              "      width: 32px;\n",
              "    }\n",
              "\n",
              "    .colab-df-convert:hover {\n",
              "      background-color: #E2EBFA;\n",
              "      box-shadow: 0px 1px 2px rgba(60, 64, 67, 0.3), 0px 1px 3px 1px rgba(60, 64, 67, 0.15);\n",
              "      fill: #174EA6;\n",
              "    }\n",
              "\n",
              "    [theme=dark] .colab-df-convert {\n",
              "      background-color: #3B4455;\n",
              "      fill: #D2E3FC;\n",
              "    }\n",
              "\n",
              "    [theme=dark] .colab-df-convert:hover {\n",
              "      background-color: #434B5C;\n",
              "      box-shadow: 0px 1px 3px 1px rgba(0, 0, 0, 0.15);\n",
              "      filter: drop-shadow(0px 1px 2px rgba(0, 0, 0, 0.3));\n",
              "      fill: #FFFFFF;\n",
              "    }\n",
              "  </style>\n",
              "\n",
              "      <script>\n",
              "        const buttonEl =\n",
              "          document.querySelector('#df-d51a6aa6-aa88-4d6e-a8d6-be2cdc1a6c3a button.colab-df-convert');\n",
              "        buttonEl.style.display =\n",
              "          google.colab.kernel.accessAllowed ? 'block' : 'none';\n",
              "\n",
              "        async function convertToInteractive(key) {\n",
              "          const element = document.querySelector('#df-d51a6aa6-aa88-4d6e-a8d6-be2cdc1a6c3a');\n",
              "          const dataTable =\n",
              "            await google.colab.kernel.invokeFunction('convertToInteractive',\n",
              "                                                     [key], {});\n",
              "          if (!dataTable) return;\n",
              "\n",
              "          const docLinkHtml = 'Like what you see? Visit the ' +\n",
              "            '<a target=\"_blank\" href=https://colab.research.google.com/notebooks/data_table.ipynb>data table notebook</a>'\n",
              "            + ' to learn more about interactive tables.';\n",
              "          element.innerHTML = '';\n",
              "          dataTable['output_type'] = 'display_data';\n",
              "          await google.colab.output.renderOutput(dataTable, element);\n",
              "          const docLink = document.createElement('div');\n",
              "          docLink.innerHTML = docLinkHtml;\n",
              "          element.appendChild(docLink);\n",
              "        }\n",
              "      </script>\n",
              "    </div>\n",
              "  </div>\n",
              "  "
            ]
          },
          "metadata": {},
          "execution_count": 38
        }
      ]
    },
    {
      "cell_type": "code",
      "source": [
        "#Selecionando colunas a serem analisadas\n",
        "regras = regras[['antecedents','consequents', 'support','confidence','lift']]"
      ],
      "metadata": {
        "id": "kCMLEBLp7AFT"
      },
      "execution_count": 39,
      "outputs": []
    },
    {
      "cell_type": "code",
      "source": [
        "#Renomeando colunas para melhor interpretação dos dados\n",
        "regras = regras.rename(\n",
        "    columns={\n",
        "        \"antecedents\": \"se\",\n",
        "        \"consequents\": \"então\",\n",
        "        \"support\": \"Suporte\", \n",
        "        \"confidence\": \"Confiança\",\n",
        "        \"lift\": \"LIFT\"\n",
        "    }\n",
        ")"
      ],
      "metadata": {
        "id": "_kfNJ9_57YQf"
      },
      "execution_count": 40,
      "outputs": []
    },
    {
      "cell_type": "code",
      "source": [
        "#Visuzalizando as alterações\n",
        "regras"
      ],
      "metadata": {
        "id": "1QTYZNv87uUc"
      },
      "execution_count": null,
      "outputs": []
    },
    {
      "cell_type": "code",
      "source": [
        "#Filtrando as melhores regras baseado no LIFT\n",
        "regras.sort_values(by = 'LIFT', ascending = False)"
      ],
      "metadata": {
        "colab": {
          "base_uri": "https://localhost:8080/",
          "height": 269
        },
        "id": "QLzwN0Yb718e",
        "outputId": "cbf05f79-8245-46c5-db90-fa70f012ab96"
      },
      "execution_count": 43,
      "outputs": [
        {
          "output_type": "execute_result",
          "data": {
            "text/plain": [
              "                 se            então  Suporte  Confiança  LIFT\n",
              "6            (Cafe)  (Manteiga, Pao)      0.3        1.0   2.5\n",
              "0            (Cafe)       (Manteiga)      0.3        1.0   2.0\n",
              "1            (Cafe)            (Pao)      0.3        1.0   2.0\n",
              "4  (Cafe, Manteiga)            (Pao)      0.3        1.0   2.0\n",
              "5       (Cafe, Pao)       (Manteiga)      0.3        1.0   2.0\n",
              "2        (Manteiga)            (Pao)      0.4        0.8   1.6\n",
              "3             (Pao)       (Manteiga)      0.4        0.8   1.6"
            ],
            "text/html": [
              "\n",
              "  <div id=\"df-c450e0b5-5953-4081-a6b0-7b70c79bc1bd\">\n",
              "    <div class=\"colab-df-container\">\n",
              "      <div>\n",
              "<style scoped>\n",
              "    .dataframe tbody tr th:only-of-type {\n",
              "        vertical-align: middle;\n",
              "    }\n",
              "\n",
              "    .dataframe tbody tr th {\n",
              "        vertical-align: top;\n",
              "    }\n",
              "\n",
              "    .dataframe thead th {\n",
              "        text-align: right;\n",
              "    }\n",
              "</style>\n",
              "<table border=\"1\" class=\"dataframe\">\n",
              "  <thead>\n",
              "    <tr style=\"text-align: right;\">\n",
              "      <th></th>\n",
              "      <th>se</th>\n",
              "      <th>então</th>\n",
              "      <th>Suporte</th>\n",
              "      <th>Confiança</th>\n",
              "      <th>LIFT</th>\n",
              "    </tr>\n",
              "  </thead>\n",
              "  <tbody>\n",
              "    <tr>\n",
              "      <th>6</th>\n",
              "      <td>(Cafe)</td>\n",
              "      <td>(Manteiga, Pao)</td>\n",
              "      <td>0.3</td>\n",
              "      <td>1.0</td>\n",
              "      <td>2.5</td>\n",
              "    </tr>\n",
              "    <tr>\n",
              "      <th>0</th>\n",
              "      <td>(Cafe)</td>\n",
              "      <td>(Manteiga)</td>\n",
              "      <td>0.3</td>\n",
              "      <td>1.0</td>\n",
              "      <td>2.0</td>\n",
              "    </tr>\n",
              "    <tr>\n",
              "      <th>1</th>\n",
              "      <td>(Cafe)</td>\n",
              "      <td>(Pao)</td>\n",
              "      <td>0.3</td>\n",
              "      <td>1.0</td>\n",
              "      <td>2.0</td>\n",
              "    </tr>\n",
              "    <tr>\n",
              "      <th>4</th>\n",
              "      <td>(Cafe, Manteiga)</td>\n",
              "      <td>(Pao)</td>\n",
              "      <td>0.3</td>\n",
              "      <td>1.0</td>\n",
              "      <td>2.0</td>\n",
              "    </tr>\n",
              "    <tr>\n",
              "      <th>5</th>\n",
              "      <td>(Cafe, Pao)</td>\n",
              "      <td>(Manteiga)</td>\n",
              "      <td>0.3</td>\n",
              "      <td>1.0</td>\n",
              "      <td>2.0</td>\n",
              "    </tr>\n",
              "    <tr>\n",
              "      <th>2</th>\n",
              "      <td>(Manteiga)</td>\n",
              "      <td>(Pao)</td>\n",
              "      <td>0.4</td>\n",
              "      <td>0.8</td>\n",
              "      <td>1.6</td>\n",
              "    </tr>\n",
              "    <tr>\n",
              "      <th>3</th>\n",
              "      <td>(Pao)</td>\n",
              "      <td>(Manteiga)</td>\n",
              "      <td>0.4</td>\n",
              "      <td>0.8</td>\n",
              "      <td>1.6</td>\n",
              "    </tr>\n",
              "  </tbody>\n",
              "</table>\n",
              "</div>\n",
              "      <button class=\"colab-df-convert\" onclick=\"convertToInteractive('df-c450e0b5-5953-4081-a6b0-7b70c79bc1bd')\"\n",
              "              title=\"Convert this dataframe to an interactive table.\"\n",
              "              style=\"display:none;\">\n",
              "        \n",
              "  <svg xmlns=\"http://www.w3.org/2000/svg\" height=\"24px\"viewBox=\"0 0 24 24\"\n",
              "       width=\"24px\">\n",
              "    <path d=\"M0 0h24v24H0V0z\" fill=\"none\"/>\n",
              "    <path d=\"M18.56 5.44l.94 2.06.94-2.06 2.06-.94-2.06-.94-.94-2.06-.94 2.06-2.06.94zm-11 1L8.5 8.5l.94-2.06 2.06-.94-2.06-.94L8.5 2.5l-.94 2.06-2.06.94zm10 10l.94 2.06.94-2.06 2.06-.94-2.06-.94-.94-2.06-.94 2.06-2.06.94z\"/><path d=\"M17.41 7.96l-1.37-1.37c-.4-.4-.92-.59-1.43-.59-.52 0-1.04.2-1.43.59L10.3 9.45l-7.72 7.72c-.78.78-.78 2.05 0 2.83L4 21.41c.39.39.9.59 1.41.59.51 0 1.02-.2 1.41-.59l7.78-7.78 2.81-2.81c.8-.78.8-2.07 0-2.86zM5.41 20L4 18.59l7.72-7.72 1.47 1.35L5.41 20z\"/>\n",
              "  </svg>\n",
              "      </button>\n",
              "      \n",
              "  <style>\n",
              "    .colab-df-container {\n",
              "      display:flex;\n",
              "      flex-wrap:wrap;\n",
              "      gap: 12px;\n",
              "    }\n",
              "\n",
              "    .colab-df-convert {\n",
              "      background-color: #E8F0FE;\n",
              "      border: none;\n",
              "      border-radius: 50%;\n",
              "      cursor: pointer;\n",
              "      display: none;\n",
              "      fill: #1967D2;\n",
              "      height: 32px;\n",
              "      padding: 0 0 0 0;\n",
              "      width: 32px;\n",
              "    }\n",
              "\n",
              "    .colab-df-convert:hover {\n",
              "      background-color: #E2EBFA;\n",
              "      box-shadow: 0px 1px 2px rgba(60, 64, 67, 0.3), 0px 1px 3px 1px rgba(60, 64, 67, 0.15);\n",
              "      fill: #174EA6;\n",
              "    }\n",
              "\n",
              "    [theme=dark] .colab-df-convert {\n",
              "      background-color: #3B4455;\n",
              "      fill: #D2E3FC;\n",
              "    }\n",
              "\n",
              "    [theme=dark] .colab-df-convert:hover {\n",
              "      background-color: #434B5C;\n",
              "      box-shadow: 0px 1px 3px 1px rgba(0, 0, 0, 0.15);\n",
              "      filter: drop-shadow(0px 1px 2px rgba(0, 0, 0, 0.3));\n",
              "      fill: #FFFFFF;\n",
              "    }\n",
              "  </style>\n",
              "\n",
              "      <script>\n",
              "        const buttonEl =\n",
              "          document.querySelector('#df-c450e0b5-5953-4081-a6b0-7b70c79bc1bd button.colab-df-convert');\n",
              "        buttonEl.style.display =\n",
              "          google.colab.kernel.accessAllowed ? 'block' : 'none';\n",
              "\n",
              "        async function convertToInteractive(key) {\n",
              "          const element = document.querySelector('#df-c450e0b5-5953-4081-a6b0-7b70c79bc1bd');\n",
              "          const dataTable =\n",
              "            await google.colab.kernel.invokeFunction('convertToInteractive',\n",
              "                                                     [key], {});\n",
              "          if (!dataTable) return;\n",
              "\n",
              "          const docLinkHtml = 'Like what you see? Visit the ' +\n",
              "            '<a target=\"_blank\" href=https://colab.research.google.com/notebooks/data_table.ipynb>data table notebook</a>'\n",
              "            + ' to learn more about interactive tables.';\n",
              "          element.innerHTML = '';\n",
              "          dataTable['output_type'] = 'display_data';\n",
              "          await google.colab.output.renderOutput(dataTable, element);\n",
              "          const docLink = document.createElement('div');\n",
              "          docLink.innerHTML = docLinkHtml;\n",
              "          element.appendChild(docLink);\n",
              "        }\n",
              "      </script>\n",
              "    </div>\n",
              "  </div>\n",
              "  "
            ]
          },
          "metadata": {},
          "execution_count": 43
        }
      ]
    },
    {
      "cell_type": "markdown",
      "source": [
        "**Conclusão da análise dos Resultados obtidos**\n",
        "\n",
        "\n",
        "A tabela acima demonstra as regras de associação criadas através do dataset de produtos. Através dela, podemos observar os itens sets e seus relacionamentos. Bem como, suas metricas de suporte, confiança e LIFT.\n",
        "\n",
        "**Exemplo de leitura da tabela:**\n",
        "\n",
        "Analisando a primeira linha do dataframe: Se (café) então (manteiga e pão)\n",
        "\n",
        "- Clientes que compram café tem 2,5 vezes mais chances de comprarem manteiga e pão;\n",
        "- Em 100% dos casos, clientes que compram café também compram manteiga e pão;"
      ],
      "metadata": {
        "id": "qHAtI2MY8Hnu"
      }
    }
  ]
}